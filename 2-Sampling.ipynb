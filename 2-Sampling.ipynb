{
 "cells": [
  {
   "cell_type": "markdown",
   "metadata": {},
   "source": [
    "### Authors : Kanvaly FADIGA & Mohamed TRAORE"
   ]
  },
  {
   "cell_type": "code",
   "execution_count": 1,
   "metadata": {},
   "outputs": [
    {
     "data": {
      "text/html": [
       "<link href='http://fonts.googleapis.com/css?family=Fenix' rel='stylesheet' type='text/css'>\n",
       "<link href='http://fonts.googleapis.com/css?family=Alegreya+Sans:100,300,400,500,700,800,900,100italic,300italic,400italic,500italic,700italic,800italic,900italic' rel='stylesheet' type='text/css'>\n",
       "<link href='http://fonts.googleapis.com/css?family=Source+Code+Pro:300,400' rel='stylesheet' type='text/css'>\n",
       "<link href=\"https://fonts.googleapis.com/css?family=Oswald|Raleway\" rel=\"stylesheet\" type='text/css'> \n",
       "<style>\n",
       ".prompt{\n",
       "    display: none !important;\n",
       "}\n",
       "\n",
       ".rendered_html pre {\n",
       "    border: 1px solid #f0f6f9 !important;\n",
       "}\n",
       "\n",
       ".rendered_html pre, .rendered_html code {\n",
       "    background-color: #d3d8db !important;\n",
       "    padding: 1% !important;\n",
       "    line-height: 200% !important;\n",
       "    border-radius: 10px !important;\n",
       "}\n",
       "\n",
       "div.input_area {\n",
       "    border-radius: 10px !important;\n",
       "    background-color: #e1e1e6 !important;\n",
       "}\n",
       "\n",
       "div.cell{\n",
       "        width:85% !important;\n",
       "        margin-left:5% !important;\n",
       "        /*margin-right:auto;*/\n",
       "    }\n",
       "    h1, h2, h3, h4, h5 {\n",
       "        font-family: 'Oswald', sans-serif; !important;\n",
       "        font-style: oblique !important;\n",
       "    }\n",
       "    div.text_cell_render{\n",
       "        font-family: 'Raleway', sans-serif; !important;\n",
       "        line-height: 135% !important;\n",
       "        font-size: 120% !important;\n",
       "        width:100%;/*600px;*/\n",
       "        /*margin-left:auto;*/\n",
       "        /*margin-right:auto;*/\n",
       "    }\n",
       "    .CodeMirror{\n",
       "            font-family: \"Source Code Pro\" !important;\n",
       "\t\t\tfont-size: 100% !important;\n",
       "    }\n",
       "    .text_cell_render p{\n",
       "        text-align: justify !important;\n",
       "    }\n",
       "    .text_cell_render h1 {\n",
       "        font-weight: 200 !important;\n",
       "\t\tline-height: 100% !important;\n",
       "        color:#47597A !important;\n",
       "        margin-bottom: 10.em !important;\n",
       "        margin-top: 50.em !important;\n",
       "        padding-bottom: 50.em !important;\n",
       "        padding-top: 50.em !important;\n",
       "        display: block !important;\n",
       "        font-size: 300% !important;\n",
       "        text-align: center !important;\n",
       "        border-bottom: 1px solid #47597A !important;\n",
       "        border-top: 1px solid #47597A !important;\n",
       "    }\n",
       "    .text_cell_render h2 {\n",
       "        font-weight: 200 !important;\n",
       "\tline-height: 100% !important;\n",
       "        color:#47597A !important;\n",
       "        margin-bottom: 0.5em !important;\n",
       "        margin-top: 0.5em !important;\n",
       "        display: block !important;\n",
       "        font-size: 200% !important;\n",
       "        border-bottom: 1px solid #47597A !important;\n",
       "    }\n",
       "    .text_cell_render h3 {\n",
       "        font-weight: 200 !important;\n",
       "\tline-height: 100% !important;\n",
       "        color:#47597A !important;\n",
       "        margin-bottom: 0.5em !important;\n",
       "        margin-top: 0.5em !important;\n",
       "        display: block !important;\n",
       "        font-size: 150% !important;\n",
       "    }\n",
       "    .text_cell_render h4 {\n",
       "        font-style: italic !important;\n",
       "        font-weight: bold !important;\n",
       "\tline-height: 100% !important;\n",
       "        color:#47597A !important;\n",
       "        display: block !important;\n",
       "        font-size: 100% !important;\n",
       "    }\n",
       "    .text_cell_render h5 {\n",
       "        font-weight: 200 !important;\n",
       "\tline-height: 100% !important;\n",
       "        color:#47597A !important;\n",
       "        margin-bottom: 0.5em !important;\n",
       "        margin-top: 0.5em !important;\n",
       "        display: block !important;\n",
       "        font-size: 100% !important;\n",
       "    }\n",
       "    .text_cell_render ul {\n",
       "\tlist-style-type: disc !important;\n",
       "\tline-height: 2;\n",
       "\t/*color:#47597A !important;*/\n",
       "    }\n",
       "    .warning{\n",
       "        color: rgb( 240, 20, 20 ) !important;\n",
       "        }\n",
       "    .Abstract {  \n",
       "\ttext-align: justify;\n",
       "\tbackground-color: #d6edf9;\n",
       "\tborder-left: 5px solid #47597A;\n",
       "\tpadding: 0.5em;\n",
       "\tmargin: 0  150px 0 150px;\n",
       "    }\n",
       "    .Def {    \n",
       "\tbackground-color: #d9f7d7;\n",
       "\tborder-left: 5px solid #4a7047;\n",
       "\tpadding: 0.5em;\n",
       "    }\n",
       "    .Def:before {\n",
       "\tcontent: \"\";\n",
       "\tcolor:#4a7047;\n",
       "\tfont-weight: bold;\n",
       "\tfont-style: normal;\n",
       "    }\n",
       "    .DoIt {    \n",
       "\tbackground-color: #e8cfc9;\n",
       "\tborder-left: 5spx solid #a90e05;\n",
       "\tpadding: 0.5em;\n",
       "    }\n",
       "    .DoIt:before {\n",
       "\tcontent: \"Do it yourself.\";\n",
       "\tcolor:#a90e05;\n",
       "\tfont-weight: bold;\n",
       "\tfont-style: normal;\n",
       "    }\n",
       "    .Answer {    \n",
       "\tbackground-color:   #fdf2e9  ;\n",
       "\tborder-left: 5px solid #a90e05;\n",
       "\tpadding: 0.5em;\n",
       "    }\n",
       "    .Answer:before {\n",
       "\tcontent: \"Answer.\";\n",
       "\tcolor:#a90e05;\n",
       "\tfont-weight: bold;\n",
       "\tfont-style: normal;\n",
       "    }\n",
       "    .Correction {    \n",
       "\tbackground-color: #ffffcc;\n",
       "\tborder-left: 5px solid #a90e05;\n",
       "\tpadding: 0.5em;\n",
       "    }\n",
       "    .Correction:before {\n",
       "\tcontent: \"Correction.\";\n",
       "\tcolor:#a90e05;\n",
       "\tfont-weight: bold;\n",
       "\tfont-style: normal;\n",
       "    }\n",
       "    .Prop {    \n",
       "\tbackground-color:#f9ecd1;\n",
       "\tborder-left: 5px solid #ba7021;\n",
       "\tpadding: 0.5em;\n",
       "    }\n",
       "   .Prop:before {\n",
       "       content: \"Proposition.\";\n",
       "       color:#ba7021;\n",
       "       font-weight: bold;\n",
       "       font-style: normal;\n",
       "    }\n",
       "   .Thm {    \n",
       "\tbackground-color:#f9ecd1;\n",
       "\tborder-left: 5px solid #ba7021;\n",
       "\tpadding: 0.5em;\n",
       "    }\n",
       "   .Thm:before {\n",
       "       content: \"Theorem.\";\n",
       "       color:#ba7021;\n",
       "       font-weight: bold;\n",
       "       font-style: normal;\n",
       "    } \n",
       "   .Algo {    \n",
       "\tbackground-color:#f9ecd1;\n",
       "\tborder-left: 5px solid #ba7021;\n",
       "\tpadding: 0.5em;\n",
       "    }\n",
       "   .Algo:before {\n",
       "       content: \"\";\n",
       "       color:#ba7021;\n",
       "       font-weight: bold;\n",
       "       font-style: normal;\n",
       "    }\n",
       "    .Rmk {    \n",
       "\tbackground-color: #dbf1fc;\n",
       "\tborder-left: 5px solid #385487;\n",
       "\tpadding: 0.5em;\n",
       "    }\n",
       "    .Rmk:before {\n",
       "\tcontent: \"Remark.\";\n",
       "\tcolor:#385487;\n",
       "\tfont-weight: bold;\n",
       "\tfont-style: normal;\n",
       "    }\n",
       "    .Ex {    \n",
       "\tbackground-color: #dbf1fc;\n",
       "\tborder-left: 5px solid #385487;\n",
       "\tpadding: 0.5em;\n",
       "    }\n",
       "    .Ex:before {\n",
       "\tcontent: \"Example.\";\n",
       "\tcolor:#385487;\n",
       "\tfont-weight: bold;\n",
       "\tfont-style: normal;\n",
       "    }\n",
       "\n",
       "/*    .toc-item-num {\n",
       "#        display: none;\n",
       "#    }\n",
       "*/\n",
       "    .reveal section img{\n",
       "        margin: 0px auto;\n",
       "    }\n",
       "\n",
       "    div.output_area img{\n",
       "        display: block;\n",
       "        margin: 0px auto;\n",
       "    }\n",
       "  \n",
       "</style>\n",
       "\n",
       "<script>\n",
       "MathJax.Hub.Config({\n",
       "TeX: {extensions: [\"AMSmath.js\"] },\n",
       "                tex2jax: {\n",
       "                    inlineMath: [ ['$','$'], [\"\\\\(\",\"\\\\)\"] ],\n",
       "                    displayMath: [ ['$$','$$'], [\"\\\\[\",\"\\\\]\"] ]\n",
       "                },\n",
       "                displayAlign: 'center', // Change this to 'center' to center equations.\n",
       "                \"HTML-CSS\": {\n",
       "                    styles: {'.MathJax_Display': {\"margin\": 4}}\n",
       "                }\n",
       "        });\n",
       "\n",
       "\n",
       "\n",
       "</script>\n"
      ],
      "text/plain": [
       "<IPython.core.display.HTML object>"
      ]
     },
     "execution_count": 1,
     "metadata": {},
     "output_type": "execute_result"
    }
   ],
   "source": [
    "# execute this part to modify the css style\n",
    "from IPython.core.display import HTML\n",
    "def css_styling():\n",
    "    styles = open(\"data/custom3.css\").read()\n",
    "    return HTML(styles)\n",
    "css_styling()"
   ]
  },
  {
   "cell_type": "markdown",
   "metadata": {},
   "source": [
    "# Credit Default Prediction - Imbalance Data -> Balanced Data \n",
    "\n",
    "In this notebook we will evaluate the impact of data sampling methods on prediction of credit default classifier. The goal at the end his to choose of these methods as our sampling algorithm "
   ]
  },
  {
   "cell_type": "markdown",
   "metadata": {},
   "source": [
    "We will explore two sampling methods:\n",
    "* Undersapling (Random and NearMiss)\n",
    "* Oversampling (Random and SMOTE)\n",
    "\n",
    "![](https://raw.githubusercontent.com/rafjaa/machine_learning_fecib/master/src/static/img/resampling.png)"
   ]
  },
  {
   "cell_type": "code",
   "execution_count": 10,
   "metadata": {},
   "outputs": [
    {
     "name": "stdout",
     "output_type": "stream",
     "text": [
      "Memory usage of dataframe is 0.82 MB\n",
      "Memory usage after optimization is: 0.18 MB\n",
      "Decreased by 78.6%\n"
     ]
    }
   ],
   "source": [
    "import warnings\n",
    "warnings.filterwarnings(\"ignore\")\n",
    "\n",
    "from Models.model_training import * \n",
    "from Models.model_tuning import * \n",
    "from FeaturesEngineering.preprocessing import *\n",
    "from utils.sampling import *\n",
    "from utils.util import *\n",
    "from FeaturesEngineering.encoding import *\n",
    "\n",
    "import seaborn as sns\n",
    "import matplotlib.pyplot as plt\n",
    "from sklearn.metrics import f1_score, accuracy_score\n",
    "import pandas as pd\n",
    "import pandas_profiling as pp\n",
    "\n",
    "\n",
    "df = prepocess_data(\"data/raw/CreditTraining.csv\")\n",
    "\n",
    "#encode data\n",
    "cat = [col for col in df if df[col].dtype.name == 'category'] + ['is_closed_date']\n",
    "dict_encod = {\"WOEEncoder\": cat}\n",
    "encoder = encoding(dict_encod)\n",
    "encoder.fit(df,df.Y)\n",
    "df = encoder.transform(df)\n",
    "\n",
    "X = df.drop(\"Y\", axis=1)\n",
    "y = df.Y\n",
    "X_train, X_test, y_train, y_test = train_test_split(X,y, test_size=0.2, stratify=y, random_state=42)"
   ]
  },
  {
   "cell_type": "code",
   "execution_count": 11,
   "metadata": {},
   "outputs": [
    {
     "data": {
      "image/png": "[encoded data removed]",
      "text/plain": [
       "<Figure size 432x288 with 1 Axes>"
      ]
     },
     "metadata": {},
     "output_type": "display_data"
    }
   ],
   "source": [
    "sns.countplot('Y', data=df)\n",
    "plt.title('Equally Distributed Classes', fontsize=14)\n",
    "plt.show()"
   ]
  },
  {
   "cell_type": "markdown",
   "metadata": {},
   "source": [
    "## Random Under-Sampling\n"
   ]
  },
  {
   "cell_type": "code",
   "execution_count": 12,
   "metadata": {
    "scrolled": false
   },
   "outputs": [
    {
     "name": "stdout",
     "output_type": "stream",
     "text": [
      "Random under-sampling:\n",
      "1    314\n",
      "0    314\n",
      "Name: Y, dtype: int64\n"
     ]
    },
    {
     "data": {
      "image/png": "[encoded data removed]",
      "text/plain": [
       "<Figure size 432x288 with 1 Axes>"
      ]
     },
     "metadata": {},
     "output_type": "display_data"
    }
   ],
   "source": [
    "#* under sampling\n",
    "df_under = X_train.assign(Y=y_train.values)\n",
    "df_under = random_under_sampling(df_under)\n",
    "\n",
    "#plot\n",
    "sns.countplot('Y', data=df_under)\n",
    "plt.title('Equally Distributed Classes', fontsize=14)\n",
    "plt.show()"
   ]
  },
  {
   "cell_type": "markdown",
   "metadata": {},
   "source": [
    "### Classifier selection"
   ]
  },
  {
   "cell_type": "code",
   "execution_count": 13,
   "metadata": {},
   "outputs": [],
   "source": [
    "clf_list = [\"LogisticRegression\",\n",
    "            \"XGBClassifier\",\n",
    "            \"RandomForestClassifier\", \n",
    "            \"MLPClassifier\",\n",
    "            \"AdaBoostClassifier\",\n",
    "            \"LGBMClassifier\",\n",
    "            \"KNeighborsClassifier\",\n",
    "            \"SVC\",\n",
    "            \"GaussianProcessClassifier\",\n",
    "            \"DecisionTreeClassifier\",\n",
    "           ]\n",
    "\n",
    "classifiers = get_models(clf_list, \n",
    "                         X_train, \n",
    "                         y_train,\n",
    "                         sampling_method=RandomUnderSampler(sampling_strategy='majority')\n",
    "                        )"
   ]
  },
  {
   "cell_type": "markdown",
   "metadata": {},
   "source": [
    "### Training"
   ]
  },
  {
   "cell_type": "code",
   "execution_count": 14,
   "metadata": {},
   "outputs": [
    {
     "name": "stdout",
     "output_type": "stream",
     "text": [
      "0/10 : Training LogisticRegression .... [OK]\n",
      "1/10 : Training XGBClassifier .... [OK]\n",
      "2/10 : Training RandomForestClassifier .... [OK]\n",
      "3/10 : Training MLPClassifier .... [OK]\n",
      "4/10 : Training AdaBoostClassifier .... [OK]\n",
      "5/10 : Training LGBMClassifier .... [OK]\n",
      "6/10 : Training KNeighborsClassifier .... [OK]\n",
      "7/10 : Training SVC .... [OK]\n",
      "8/10 : Training GaussianProcessClassifier .... [OK]\n",
      "9/10 : Training DecisionTreeClassifier .... [OK]\n"
     ]
    }
   ],
   "source": [
    "classifiers, result = train_models(classifiers=classifiers, X=X_train, y=y_train)"
   ]
  },
  {
   "cell_type": "code",
   "execution_count": 15,
   "metadata": {},
   "outputs": [
    {
     "data": {
      "text/html": [
       "<div>\n",
       "<style scoped>\n",
       "    .dataframe tbody tr th:only-of-type {\n",
       "        vertical-align: middle;\n",
       "    }\n",
       "\n",
       "    .dataframe tbody tr th {\n",
       "        vertical-align: top;\n",
       "    }\n",
       "\n",
       "    .dataframe thead th {\n",
       "        text-align: right;\n",
       "    }\n",
       "</style>\n",
       "<table border=\"1\" class=\"dataframe\">\n",
       "  <thead>\n",
       "    <tr style=\"text-align: right;\">\n",
       "      <th></th>\n",
       "      <th>clf_name</th>\n",
       "      <th>pr</th>\n",
       "      <th>rc</th>\n",
       "      <th>f1</th>\n",
       "      <th>auc</th>\n",
       "      <th>acc</th>\n",
       "    </tr>\n",
       "  </thead>\n",
       "  <tbody>\n",
       "    <tr>\n",
       "      <td>0</td>\n",
       "      <td>LogisticRegression</td>\n",
       "      <td>0.389877</td>\n",
       "      <td>0.907643</td>\n",
       "      <td>0.545455</td>\n",
       "      <td>0.897862</td>\n",
       "      <td>0.889509</td>\n",
       "    </tr>\n",
       "    <tr>\n",
       "      <td>1</td>\n",
       "      <td>XGBClassifier</td>\n",
       "      <td>0.378973</td>\n",
       "      <td>0.987261</td>\n",
       "      <td>0.547703</td>\n",
       "      <td>0.929892</td>\n",
       "      <td>0.880903</td>\n",
       "    </tr>\n",
       "    <tr>\n",
       "      <td>2</td>\n",
       "      <td>RandomForestClassifier</td>\n",
       "      <td>0.416546</td>\n",
       "      <td>0.914013</td>\n",
       "      <td>0.572283</td>\n",
       "      <td>0.906567</td>\n",
       "      <td>0.900209</td>\n",
       "    </tr>\n",
       "    <tr>\n",
       "      <td>3</td>\n",
       "      <td>MLPClassifier</td>\n",
       "      <td>0.363014</td>\n",
       "      <td>0.843949</td>\n",
       "      <td>0.507663</td>\n",
       "      <td>0.863631</td>\n",
       "      <td>0.880437</td>\n",
       "    </tr>\n",
       "    <tr>\n",
       "      <td>4</td>\n",
       "      <td>AdaBoostClassifier</td>\n",
       "      <td>0.362264</td>\n",
       "      <td>0.917197</td>\n",
       "      <td>0.519387</td>\n",
       "      <td>0.894985</td>\n",
       "      <td>0.876018</td>\n",
       "    </tr>\n",
       "    <tr>\n",
       "      <td>5</td>\n",
       "      <td>LGBMClassifier</td>\n",
       "      <td>0.307364</td>\n",
       "      <td>0.917197</td>\n",
       "      <td>0.460432</td>\n",
       "      <td>0.877168</td>\n",
       "      <td>0.842987</td>\n",
       "    </tr>\n",
       "    <tr>\n",
       "      <td>6</td>\n",
       "      <td>KNeighborsClassifier</td>\n",
       "      <td>0.163241</td>\n",
       "      <td>0.859873</td>\n",
       "      <td>0.274390</td>\n",
       "      <td>0.756285</td>\n",
       "      <td>0.667830</td>\n",
       "    </tr>\n",
       "    <tr>\n",
       "      <td>7</td>\n",
       "      <td>SVC</td>\n",
       "      <td>0.731132</td>\n",
       "      <td>0.987261</td>\n",
       "      <td>0.840108</td>\n",
       "      <td>0.979327</td>\n",
       "      <td>0.972552</td>\n",
       "    </tr>\n",
       "    <tr>\n",
       "      <td>8</td>\n",
       "      <td>GaussianProcessClassifier</td>\n",
       "      <td>0.380826</td>\n",
       "      <td>0.910828</td>\n",
       "      <td>0.537089</td>\n",
       "      <td>0.897070</td>\n",
       "      <td>0.885322</td>\n",
       "    </tr>\n",
       "    <tr>\n",
       "      <td>9</td>\n",
       "      <td>DecisionTreeClassifier</td>\n",
       "      <td>0.363190</td>\n",
       "      <td>0.942675</td>\n",
       "      <td>0.524358</td>\n",
       "      <td>0.906218</td>\n",
       "      <td>0.875087</td>\n",
       "    </tr>\n",
       "  </tbody>\n",
       "</table>\n",
       "</div>"
      ],
      "text/plain": [
       "                    clf_name        pr        rc        f1       auc       acc\n",
       "0         LogisticRegression  0.389877  0.907643  0.545455  0.897862  0.889509\n",
       "1              XGBClassifier  0.378973  0.987261  0.547703  0.929892  0.880903\n",
       "2     RandomForestClassifier  0.416546  0.914013  0.572283  0.906567  0.900209\n",
       "3              MLPClassifier  0.363014  0.843949  0.507663  0.863631  0.880437\n",
       "4         AdaBoostClassifier  0.362264  0.917197  0.519387  0.894985  0.876018\n",
       "5             LGBMClassifier  0.307364  0.917197  0.460432  0.877168  0.842987\n",
       "6       KNeighborsClassifier  0.163241  0.859873  0.274390  0.756285  0.667830\n",
       "7                        SVC  0.731132  0.987261  0.840108  0.979327  0.972552\n",
       "8  GaussianProcessClassifier  0.380826  0.910828  0.537089  0.897070  0.885322\n",
       "9     DecisionTreeClassifier  0.363190  0.942675  0.524358  0.906218  0.875087"
      ]
     },
     "execution_count": 15,
     "metadata": {},
     "output_type": "execute_result"
    }
   ],
   "source": [
    "result"
   ]
  },
  {
   "cell_type": "code",
   "execution_count": 16,
   "metadata": {},
   "outputs": [
    {
     "data": {
      "image/png": "[encoded data removed]",
      "text/plain": [
       "<Figure size 432x288 with 1 Axes>"
      ]
     },
     "metadata": {},
     "output_type": "display_data"
    }
   ],
   "source": [
    "g = sns.barplot(x=\"clf_name\", y=\"f1\", color=\"purple\", data=result)\n",
    "g.set_xticklabels(labels=g.get_xticklabels(),rotation=90)\n",
    "plt.show()"
   ]
  },
  {
   "cell_type": "markdown",
   "metadata": {},
   "source": [
    "### Test"
   ]
  },
  {
   "cell_type": "code",
   "execution_count": 18,
   "metadata": {},
   "outputs": [
    {
     "name": "stdout",
     "output_type": "stream",
     "text": [
      "                    clf_name        pr        rc        f1       auc       acc\n",
      "0         LogisticRegression  0.382857  0.858974  0.529644  0.875325  0.889302\n",
      "1              XGBClassifier  0.331658  0.846154  0.476534  0.856377  0.865116\n",
      "2     RandomForestClassifier  0.411392  0.833333  0.550847  0.870027  0.901395\n",
      "3              MLPClassifier  0.360000  0.807692  0.498024  0.847678  0.881860\n",
      "4         AdaBoostClassifier  0.349206  0.846154  0.494382  0.861392  0.874419\n",
      "5             LGBMClassifier  0.304721  0.910256  0.456592  0.873884  0.842791\n",
      "6       KNeighborsClassifier  0.130926  0.743590  0.222649  0.678716  0.623256\n",
      "7                        SVC  0.242424  0.102564  0.144144  0.538744  0.911628\n",
      "8  GaussianProcessClassifier  0.347826  0.820513  0.488550  0.850076  0.875349\n",
      "9     DecisionTreeClassifier  0.316038  0.858974  0.462069  0.856769  0.854884\n"
     ]
    },
    {
     "data": {
      "image/png": "[encoded data removed]",
      "text/plain": [
       "<Figure size 432x288 with 1 Axes>"
      ]
     },
     "metadata": {},
     "output_type": "display_data"
    }
   ],
   "source": [
    "result = pd.DataFrame(columns=[\"clf_name\", \"pr\", \"rc\", \"f1\", \"auc\", \"acc\"])\n",
    "for i, (name, clf) in enumerate(classifiers.items()):\n",
    "    y_pred = clf.steps[-1][1].predict(X_test)\n",
    "    acc = accuracy_score(y_test, y_pred)\n",
    "    pr = precision_score(y_test, y_pred)\n",
    "    rc = recall_score(y_test, y_pred)\n",
    "    f1 = f1_score(y_test, y_pred)\n",
    "    auc = roc_auc_score(y_test, y_pred)\n",
    "\n",
    "    result.loc[i] = [name, pr, rc, f1, auc, acc]\n",
    "    \n",
    "print(result)\n",
    "g = sns.barplot(x=\"clf_name\", y=\"f1\", color=\"purple\", data=result)\n",
    "g.set_xticklabels(labels=g.get_xticklabels(),rotation=90)\n",
    "plt.show()"
   ]
  },
  {
   "cell_type": "markdown",
   "metadata": {},
   "source": [
    "**Random Forest Classifier is more accurate than the other three classifiers in most cases. It is followed by Logistic regression and Adaboost**"
   ]
  },
  {
   "cell_type": "markdown",
   "metadata": {},
   "source": [
    "# Over sampling"
   ]
  },
  {
   "cell_type": "code",
   "execution_count": 29,
   "metadata": {
    "scrolled": false
   },
   "outputs": [
    {
     "name": "stdout",
     "output_type": "stream",
     "text": [
      "Random over-sampling:\n",
      "1    3985\n",
      "0    3985\n",
      "Name: Y, dtype: int64\n"
     ]
    },
    {
     "data": {
      "image/png": "[encoded data removed]",
      "text/plain": [
       "<Figure size 432x288 with 1 Axes>"
      ]
     },
     "metadata": {},
     "output_type": "display_data"
    }
   ],
   "source": [
    "#* under sampling\n",
    "df_under = X_train.assign(Y=y_train.values)\n",
    "df_under = random_over_sampling(df_under)\n",
    "\n",
    "#plot\n",
    "sns.countplot('Y', data=df_under)\n",
    "plt.title('Equally Distributed Classes', fontsize=14)\n",
    "plt.show()"
   ]
  },
  {
   "cell_type": "markdown",
   "metadata": {},
   "source": [
    "### Classifier selection"
   ]
  },
  {
   "cell_type": "code",
   "execution_count": 31,
   "metadata": {},
   "outputs": [],
   "source": [
    "clf_list = [\"LogisticRegression\",\n",
    "            \"XGBClassifier\",\n",
    "            \"RandomForestClassifier\", \n",
    "            \"MLPClassifier\",\n",
    "            \"AdaBoostClassifier\",\n",
    "            \"LGBMClassifier\"\n",
    "           ]\n",
    "\n",
    "from imblearn.over_sampling import RandomOverSampler\n",
    "\n",
    "classifiers = get_models(clf_list, \n",
    "                         X_train, \n",
    "                         y_train,\n",
    "                         sampling_method=RandomOverSampler(sampling_strategy='minority')\n",
    "                        )"
   ]
  },
  {
   "cell_type": "code",
   "execution_count": 33,
   "metadata": {},
   "outputs": [
    {
     "name": "stdout",
     "output_type": "stream",
     "text": [
      "0/6 : Training LogisticRegression .... [OK]\n",
      "1/6 : Training XGBClassifier .... [OK]\n",
      "2/6 : Training RandomForestClassifier .... [OK]\n",
      "3/6 : Training MLPClassifier .... [OK]\n",
      "4/6 : Training AdaBoostClassifier .... [OK]\n",
      "5/6 : Training LGBMClassifier .... [OK]\n"
     ]
    }
   ],
   "source": [
    "classifiers, result = train_models(classifiers=classifiers, X=X_train, y=y_train)"
   ]
  },
  {
   "cell_type": "code",
   "execution_count": 36,
   "metadata": {},
   "outputs": [
    {
     "data": {
      "image/png": "[encoded data removed]",
      "text/plain": [
       "<Figure size 432x288 with 1 Axes>"
      ]
     },
     "metadata": {},
     "output_type": "display_data"
    }
   ],
   "source": [
    "g = sns.barplot(x=\"clf_name\", y=\"f1\", color=\"purple\", data=result)\n",
    "g.set_xticklabels(labels=g.get_xticklabels(),rotation=90)\n",
    "plt.show()"
   ]
  },
  {
   "cell_type": "code",
   "execution_count": 37,
   "metadata": {},
   "outputs": [
    {
     "name": "stdout",
     "output_type": "stream",
     "text": [
      "                 clf_name        pr        rc        f1       auc       acc\n",
      "0      LogisticRegression  0.391566  0.833333  0.532787  0.866015  0.893953\n",
      "1           XGBClassifier  0.370787  0.423077  0.395210  0.683454  0.906047\n",
      "2  RandomForestClassifier  0.411392  0.833333  0.550847  0.870027  0.901395\n",
      "3           MLPClassifier  0.391026  0.782051  0.521368  0.843383  0.895814\n",
      "4      AdaBoostClassifier  0.426667  0.820513  0.561404  0.867127  0.906977\n",
      "5          LGBMClassifier  0.426752  0.858974  0.570213  0.884352  0.906047\n"
     ]
    },
    {
     "data": {
      "image/png": "[encoded data removed]",
      "text/plain": [
       "<Figure size 432x288 with 1 Axes>"
      ]
     },
     "metadata": {},
     "output_type": "display_data"
    }
   ],
   "source": [
    "result = pd.DataFrame(columns=[\"clf_name\", \"pr\", \"rc\", \"f1\", \"auc\", \"acc\"])\n",
    "for i, (name, clf) in enumerate(classifiers.items()):\n",
    "    y_pred = clf.steps[-1][1].predict(X_test)\n",
    "    acc = accuracy_score(y_test, y_pred)\n",
    "    pr = precision_score(y_test, y_pred)\n",
    "    rc = recall_score(y_test, y_pred)\n",
    "    f1 = f1_score(y_test, y_pred)\n",
    "    auc = roc_auc_score(y_test, y_pred)\n",
    "\n",
    "    result.loc[i] = [name, pr, rc, f1, auc, acc]\n",
    "    \n",
    "print(result)\n",
    "g = sns.barplot(x=\"clf_name\", y=\"f1\", color=\"purple\", data=result)\n",
    "g.set_xticklabels(labels=g.get_xticklabels(),rotation=90)\n",
    "plt.show()"
   ]
  },
  {
   "cell_type": "markdown",
   "metadata": {},
   "source": [
    "# Oversampling SMOTE"
   ]
  },
  {
   "cell_type": "markdown",
   "metadata": {},
   "source": [
    "![](https://www.marcoaltini.com/uploads/1/3/2/3/13234002/9101820.jpg?372)"
   ]
  },
  {
   "cell_type": "markdown",
   "metadata": {},
   "source": [
    "Synthetic data are created only for the training set without affecting the validation set."
   ]
  },
  {
   "cell_type": "code",
   "execution_count": 38,
   "metadata": {},
   "outputs": [],
   "source": [
    "clf_list = [\"LogisticRegression\",\n",
    "            \"XGBClassifier\",\n",
    "            \"RandomForestClassifier\", \n",
    "            \"MLPClassifier\",\n",
    "            \"AdaBoostClassifier\",\n",
    "            \"LGBMClassifier\"\n",
    "           ]\n",
    "\n",
    "from imblearn.over_sampling import SMOTE\n",
    "\n",
    "classifiers = get_models(clf_list, \n",
    "                         X_train, \n",
    "                         y_train,\n",
    "                         sampling_method=SMOTE(sampling_strategy='minority')\n",
    "                        )"
   ]
  },
  {
   "cell_type": "code",
   "execution_count": 39,
   "metadata": {},
   "outputs": [
    {
     "name": "stdout",
     "output_type": "stream",
     "text": [
      "0/6 : Training LogisticRegression .... [OK]\n",
      "1/6 : Training XGBClassifier .... [OK]\n",
      "2/6 : Training RandomForestClassifier .... [OK]\n",
      "3/6 : Training MLPClassifier .... [OK]\n",
      "4/6 : Training AdaBoostClassifier .... [OK]\n",
      "5/6 : Training LGBMClassifier .... [OK]\n"
     ]
    }
   ],
   "source": [
    "classifiers, result = train_models(classifiers=classifiers, X=X_train, y=y_train)"
   ]
  },
  {
   "cell_type": "code",
   "execution_count": 40,
   "metadata": {},
   "outputs": [
    {
     "data": {
      "image/png": "[encoded data removed]",
      "text/plain": [
       "<Figure size 432x288 with 1 Axes>"
      ]
     },
     "metadata": {},
     "output_type": "display_data"
    }
   ],
   "source": [
    "g = sns.barplot(x=\"clf_name\", y=\"f1\", color=\"purple\", data=result)\n",
    "g.set_xticklabels(labels=g.get_xticklabels(),rotation=90)\n",
    "plt.show()"
   ]
  },
  {
   "cell_type": "code",
   "execution_count": 41,
   "metadata": {},
   "outputs": [
    {
     "name": "stdout",
     "output_type": "stream",
     "text": [
      "                 clf_name        pr        rc        f1       auc       acc\n",
      "0      LogisticRegression  0.414013  0.833333  0.553191  0.870528  0.902326\n",
      "1           XGBClassifier  0.479452  0.448718  0.463576  0.705302  0.924651\n",
      "2  RandomForestClassifier  0.430769  0.717949  0.538462  0.821863  0.910698\n",
      "3           MLPClassifier  0.388889  0.807692  0.525000  0.854197  0.893953\n",
      "4      AdaBoostClassifier  0.416058  0.730769  0.530233  0.825264  0.906047\n",
      "5          LGBMClassifier  0.429530  0.820513  0.563877  0.867629  0.907907\n"
     ]
    },
    {
     "data": {
      "image/png": "[encoded data removed]",
      "text/plain": [
       "<Figure size 432x288 with 1 Axes>"
      ]
     },
     "metadata": {},
     "output_type": "display_data"
    }
   ],
   "source": [
    "result = pd.DataFrame(columns=[\"clf_name\", \"pr\", \"rc\", \"f1\", \"auc\", \"acc\"])\n",
    "for i, (name, clf) in enumerate(classifiers.items()):\n",
    "    y_pred = clf.steps[-1][1].predict(X_test)\n",
    "    acc = accuracy_score(y_test, y_pred)\n",
    "    pr = precision_score(y_test, y_pred)\n",
    "    rc = recall_score(y_test, y_pred)\n",
    "    f1 = f1_score(y_test, y_pred)\n",
    "    auc = roc_auc_score(y_test, y_pred)\n",
    "\n",
    "    result.loc[i] = [name, pr, rc, f1, auc, acc]\n",
    "    \n",
    "print(result)\n",
    "g = sns.barplot(x=\"clf_name\", y=\"f1\", color=\"purple\", data=result)\n",
    "g.set_xticklabels(labels=g.get_xticklabels(),rotation=90)\n",
    "plt.show()"
   ]
  },
  {
   "cell_type": "markdown",
   "metadata": {},
   "source": [
    "# Conclusion"
   ]
  },
  {
   "cell_type": "markdown",
   "metadata": {},
   "source": [
    "The best sampling method here is random over sampling. So we will use it in the next section "
   ]
  },
  {
   "cell_type": "code",
   "execution_count": null,
   "metadata": {},
   "outputs": [],
   "source": []
  }
 ],
 "metadata": {
  "kernelspec": {
   "display_name": "'Python Interactive'",
   "language": "python",
   "name": "f6211398-64fe-4b67-a291-3cad7fe8a421"
  },
  "language_info": {
   "codemirror_mode": {
    "name": "ipython",
    "version": 3
   },
   "file_extension": ".py",
   "mimetype": "text/x-python",
   "name": "python",
   "nbconvert_exporter": "python",
   "pygments_lexer": "ipython3",
   "version": "3.6.7"
  }
 },
 "nbformat": 4,
 "nbformat_minor": 2
}
